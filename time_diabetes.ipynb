{
 "cells": [
  {
   "cell_type": "code",
   "execution_count": 14,
   "metadata": {
    "_active": false,
    "_cell_guid": "67610f18-83ae-28d9-c866-519c8cb1a0cb",
    "_execution_state": "idle",
    "_uuid": "5f929632417d7741183b994ec93ad79c275e016e"
   },
   "outputs": [
    {
     "name": "stdout",
     "output_type": "stream",
     "text": [
      "Runtime of the step is 0.0004966259002685547\n"
     ]
    }
   ],
   "source": [
    "import time\n",
    "start = time.time()\n",
    "import numpy as np\n",
    "import pandas as pd\n",
    "import seaborn as sns\n",
    "from sklearn.preprocessing import StandardScaler\n",
    "from sklearn.model_selection import train_test_split, GridSearchCV\n",
    "from sklearn.linear_model import LogisticRegression\n",
    "from sklearn.neighbors import KNeighborsClassifier\n",
    "from sklearn.ensemble import RandomForestClassifier\n",
    "from sklearn.model_selection import cross_val_score, cross_val_predict\n",
    "from sklearn.svm import SVC\n",
    "from sklearn.metrics import classification_report, confusion_matrix\n",
    "end = time.time()\n",
    "print(f\"Runtime of the step is {end - start}\")"
   ]
  },
  {
   "cell_type": "code",
   "execution_count": 15,
   "metadata": {
    "_execution_state": "idle",
    "_uuid": "6f0c6eedef1845f535889f0225dd23738d02fe00"
   },
   "outputs": [
    {
     "name": "stdout",
     "output_type": "stream",
     "text": [
      "   Pregnancies  Glucose  BloodPressure  SkinThickness  Insulin   BMI  \\\n",
      "0            6      148             72             35        0  33.6   \n",
      "1            1       85             66             29        0  26.6   \n",
      "2            8      183             64              0        0  23.3   \n",
      "3            1       89             66             23       94  28.1   \n",
      "4            0      137             40             35      168  43.1   \n",
      "\n",
      "   DiabetesPedigreeFunction  Age  Outcome  \n",
      "0                     0.627   50        1  \n",
      "1                     0.351   31        0  \n",
      "2                     0.672   32        1  \n",
      "3                     0.167   21        0  \n",
      "4                     2.288   33        1  \n",
      "Runtime of the step is 0.013357877731323242\n"
     ]
    }
   ],
   "source": [
    "start = time.time()\n",
    "df = pd.read_csv('diabetes.csv')\n",
    "print(df.head())\n",
    "end = time.time()\n",
    "print(f\"Runtime of the step is {end - start}\")"
   ]
  },
  {
   "cell_type": "code",
   "execution_count": 4,
   "metadata": {
    "_active": false,
    "_cell_guid": "9d4e8dae-2820-cde6-b603-b9d4bdb2acc7",
    "_execution_state": "idle",
    "_uuid": "797cf71e5a2f2a5e93fee78eb4f07e1c0bcc816d"
   },
   "outputs": [
    {
     "name": "stdout",
     "output_type": "stream",
     "text": [
      "Runtime of the step is 0.02033519744873047\n"
     ]
    }
   ],
   "source": [
    "start = time.time()\n",
    "X = df.drop('Outcome', axis=1)\n",
    "X = StandardScaler().fit_transform(X)\n",
    "y = df['Outcome']\n",
    "end = time.time()\n",
    "print(f\"Runtime of the step is {end - start}\")"
   ]
  },
  {
   "cell_type": "code",
   "execution_count": 5,
   "metadata": {
    "_active": false,
    "_cell_guid": "ee011c74-d139-b96b-28e3-5b19a625f423",
    "_execution_state": "idle",
    "_uuid": "5a9f32468c5b24fb5e021ea6c43531aa3e15e86a"
   },
   "outputs": [
    {
     "name": "stdout",
     "output_type": "stream",
     "text": [
      "Runtime of the step is 0.0019838809967041016\n"
     ]
    }
   ],
   "source": [
    "start = time.time()\n",
    "X_train, X_test, y_train, y_test = train_test_split(\n",
    "    X, y, test_size=0.25, random_state=0)\n",
    "end = time.time()\n",
    "print(f\"Runtime of the step is {end - start}\")"
   ]
  },
  {
   "cell_type": "code",
   "execution_count": 6,
   "metadata": {
    "_active": false,
    "_cell_guid": "94fd7da9-0d18-144e-415b-be27178c1ea9",
    "_execution_state": "idle",
    "_uuid": "f9977ec8f99613ecbaf19102b05239ba8230e8af"
   },
   "outputs": [
    {
     "name": "stdout",
     "output_type": "stream",
     "text": [
      "Runtime of the step is 0.0004956722259521484\n"
     ]
    }
   ],
   "source": [
    "start = time.time()\n",
    "model = SVC()\n",
    "\n",
    "parameters = [{'kernel': ['rbf'], 'gamma': [1e-3, 1e-4],\n",
    "                     'C': [1, 10, 100, 1000]},\n",
    "                    {'kernel': ['linear'], 'C': [1, 10, 100, 1000]}]\n",
    "end = time.time()\n",
    "print(f\"Runtime of the step is {end - start}\")"
   ]
  },
  {
   "cell_type": "code",
   "execution_count": 7,
   "metadata": {
    "_active": false,
    "_cell_guid": "952c2078-3c1f-ed54-0cf8-b797030348cd",
    "_execution_state": "idle",
    "_uuid": "19b39b39d18098301740ae5a71b327daccc4d775"
   },
   "outputs": [
    {
     "name": "stdout",
     "output_type": "stream",
     "text": [
      "Runtime of the step is 15.067971229553223\n"
     ]
    }
   ],
   "source": [
    "start = time.time()\n",
    "grid = GridSearchCV(estimator=model, param_grid=parameters, cv=5)\n",
    "grid.fit(X_train, y_train)\n",
    "end = time.time()\n",
    "print(f\"Runtime of the step is {end - start}\")"
   ]
  },
  {
   "cell_type": "code",
   "execution_count": 8,
   "metadata": {
    "_active": false,
    "_cell_guid": "8ff480a9-d9ad-a475-33e9-5471b79c4619",
    "_execution_state": "idle",
    "_uuid": "9b31a0847a77a4f9351d3d24426d263283dee390"
   },
   "outputs": [
    {
     "name": "stdout",
     "output_type": "stream",
     "text": [
      "Score: 0.8509\n",
      "Runtime of the step is 15.006963968276978\n"
     ]
    }
   ],
   "source": [
    "start = time.time()\n",
    "roc_auc = np.around(np.mean(cross_val_score(grid, X_test, y_test, cv=5, scoring='roc_auc')), decimals=4)\n",
    "print('Score: {}'.format(roc_auc))\n",
    "end = time.time()\n",
    "print(f\"Runtime of the step is {end - start}\")"
   ]
  },
  {
   "cell_type": "code",
   "execution_count": 9,
   "metadata": {
    "_execution_state": "idle",
    "_uuid": "55fb51c597b1bf5d5f09a353d28c52903e3121ae"
   },
   "outputs": [
    {
     "name": "stdout",
     "output_type": "stream",
     "text": [
      "              precision    recall  f1-score   support\n",
      "\n",
      "           0       0.80      0.87      0.83       130\n",
      "           1       0.66      0.53      0.59        62\n",
      "\n",
      "    accuracy                           0.76       192\n",
      "   macro avg       0.73      0.70      0.71       192\n",
      "weighted avg       0.75      0.76      0.75       192\n",
      "\n",
      "Runtime of the step is 15.381983995437622\n"
     ]
    }
   ],
   "source": [
    "start = time.time()\n",
    "model = RandomForestClassifier(n_estimators=1000)\n",
    "model.fit(X_train, y_train)\n",
    "predictions = cross_val_predict(model, X_test, y_test, cv=5)\n",
    "print(classification_report(y_test, predictions))\n",
    "end = time.time()\n",
    "print(f\"Runtime of the step is {end - start}\")"
   ]
  },
  {
   "cell_type": "code",
   "execution_count": 11,
   "metadata": {
    "_execution_state": "idle",
    "_uuid": "4d5f6bef71ff25be34aacfc7c3fa39aa5962ac6f"
   },
   "outputs": [
    {
     "name": "stdout",
     "output_type": "stream",
     "text": [
      "[[113  17]\n",
      " [ 29  33]]\n",
      "Runtime of the step is 0.0024802684783935547\n"
     ]
    }
   ],
   "source": [
    "start = time.time()\n",
    "print(confusion_matrix(y_test, predictions))\n",
    "end = time.time()\n",
    "print(f\"Runtime of the step is {end - start}\")"
   ]
  },
  {
   "cell_type": "code",
   "execution_count": 13,
   "metadata": {
    "_execution_state": "idle",
    "_uuid": "fcfbd5a4827fea56398dea61780597bfe6e2c1a8"
   },
   "outputs": [
    {
     "name": "stdout",
     "output_type": "stream",
     "text": [
      "0.8264\n",
      "Runtime of the step is 11.548360347747803\n"
     ]
    }
   ],
   "source": [
    "start = time.time()\n",
    "score = np.mean(cross_val_score(model, X_test, y_test, cv=5, scoring='roc_auc'))\n",
    "print(np.around(score, decimals=4))\n",
    "end = time.time()\n",
    "print(f\"Runtime of the step is {end - start}\")"
   ]
  },
  {
   "cell_type": "code",
   "execution_count": 11,
   "metadata": {
    "_execution_state": "idle",
    "_uuid": "ad34ae6d2a8a7926ba41caf16e786752f1a4120c"
   },
   "outputs": [],
   "source": []
  }
 ],
 "metadata": {
  "kernelspec": {
   "display_name": "Python 3",
   "language": "python",
   "name": "python3"
  },
  "language_info": {
   "codemirror_mode": {
    "name": "ipython",
    "version": 3
   },
   "file_extension": ".py",
   "mimetype": "text/x-python",
   "name": "python",
   "nbconvert_exporter": "python",
   "pygments_lexer": "ipython3",
   "version": "3.7.4"
  },
  "toc": {
   "base_numbering": 1,
   "nav_menu": {},
   "number_sections": true,
   "sideBar": true,
   "skip_h1_title": false,
   "title_cell": "Table of Contents",
   "title_sidebar": "Contents",
   "toc_cell": false,
   "toc_position": {},
   "toc_section_display": true,
   "toc_window_display": false
  }
 },
 "nbformat": 4,
 "nbformat_minor": 1
}
